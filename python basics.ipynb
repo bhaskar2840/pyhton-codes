{
 "cells": [
  {
   "cell_type": "markdown",
   "metadata": {},
   "source": [
    "###o(n**2)  Bubble Sort\n",
    "insertion sort\n",
    "selection sort\n",
    "\n",
    "###O(nlogn) merge sort\n",
    "quick sort\n",
    "heap sort"
   ]
  },
  {
   "cell_type": "markdown",
   "metadata": {},
   "source": [
    "### intersection"
   ]
  },
  {
   "cell_type": "code",
   "execution_count": 1,
   "metadata": {},
   "outputs": [
    {
     "name": "stdout",
     "output_type": "stream",
     "text": [
      "1 4 2 5 3 6 \n",
      "3 5 2 8 9 1\n",
      "1\n",
      "2\n",
      "3\n",
      "5\n"
     ]
    }
   ],
   "source": [
    "li1=[int(x) for x in input().split()]\n",
    "li2=[int(y) for y in input().split()]\n",
    "li1.sort()\n",
    "li2.sort()\n",
    "\n",
    "i=0\n",
    "j=0\n",
    "while ((i<len(li1)) and (j<len(li2))):\n",
    "    if li1[i]==li2[j]:\n",
    "        print(li1[i])\n",
    "        li1.pop(i)\n",
    "        li2.pop(j)\n",
    "    elif li1[i]<li2[j]:\n",
    "        i=i+1\n",
    "    else:\n",
    "        j=j+1"
   ]
  },
  {
   "cell_type": "markdown",
   "metadata": {},
   "source": [
    "### sort 0,1,2"
   ]
  },
  {
   "cell_type": "code",
   "execution_count": 2,
   "metadata": {},
   "outputs": [
    {
     "name": "stdout",
     "output_type": "stream",
     "text": [
      "0 2 1 0 2 2 1 0 2 0 0 1\n",
      "0 0 0 0 0 1 1 1 2 2 2 2\n"
     ]
    }
   ],
   "source": [
    "li=[int(x) for x in input().split()]\n",
    "count=0\n",
    "count1=0\n",
    "for i in range(0,len(li),1):\n",
    "    if li[i]==0:\n",
    "        count=count+1\n",
    "    elif li[i]==1:\n",
    "        count1=count1+1\n",
    "for i in range(len(li)):\n",
    "    if i<count:\n",
    "        li[i]=0\n",
    "    elif i<count+count1:\n",
    "        li[i]=1\n",
    "    else:\n",
    "        li[i]=2\n",
    "        \n",
    "print(*li)   "
   ]
  },
  {
   "cell_type": "markdown",
   "metadata": {},
   "source": [
    "### max no in arr"
   ]
  },
  {
   "cell_type": "code",
   "execution_count": 4,
   "metadata": {},
   "outputs": [
    {
     "name": "stdout",
     "output_type": "stream",
     "text": [
      "eeeeeeeeehhhhhaaaaadddddd\n",
      "e 9\n"
     ]
    }
   ],
   "source": [
    "def max_no(s):\n",
    "    count=[0]*256\n",
    "    for ch in s:\n",
    "        count[ord(ch)]+=1\n",
    "    max_index=0\n",
    "    for i in range(256):\n",
    "        if count[i]>count[max_index]:\n",
    "            max_index=i\n",
    "    print(chr(max_index),count[max_index])\n",
    "    \n",
    "    \n",
    "    \n",
    "a=input()\n",
    "max_no(a)"
   ]
  },
  {
   "cell_type": "markdown",
   "metadata": {},
   "source": [
    "### replacing a word"
   ]
  },
  {
   "cell_type": "code",
   "execution_count": 5,
   "metadata": {},
   "outputs": [
    {
     "name": "stdout",
     "output_type": "stream",
     "text": [
      "nagar\n",
      "a\n",
      "b\n",
      "nbgbr\n"
     ]
    }
   ],
   "source": [
    "def replace(s,a,b):\n",
    "    s2=''\n",
    "    for i in range(len(s)):\n",
    "        if s[i]==a:\n",
    "            s2+=b\n",
    "        else:\n",
    "            s2+=s[i]\n",
    "            \n",
    "    return s2       \n",
    "            \n",
    "    \n",
    "s=input()\n",
    "a=input()\n",
    "b=input()\n",
    "d=replace(s,a,b)\n",
    "print(d)"
   ]
  },
  {
   "cell_type": "markdown",
   "metadata": {},
   "source": [
    "### reverse a number"
   ]
  },
  {
   "cell_type": "code",
   "execution_count": 6,
   "metadata": {},
   "outputs": [
    {
     "name": "stdout",
     "output_type": "stream",
     "text": [
      "1 2 3 4 5 \n",
      "22255\n",
      "2\n",
      "[2, 3, 4, 5, 1]\n"
     ]
    }
   ],
   "source": [
    "\n",
    "def rotate(li,n,d):\n",
    "    d=d%n\n",
    "    for i in range(d):\n",
    "        ele=li[0]\n",
    "        li.pop(0)\n",
    "        li.append(ele)\n",
    "    return li\n",
    "\n",
    "\n",
    "li=[int(x) for x in input().split()]\n",
    "d=int(input())\n",
    "n=int(input())\n",
    "a=rotate(li,n,d)\n",
    "print(a)"
   ]
  },
  {
   "cell_type": "markdown",
   "metadata": {},
   "source": [
    "### sum of 2 arrays"
   ]
  },
  {
   "cell_type": "code",
   "execution_count": 7,
   "metadata": {},
   "outputs": [
    {
     "name": "stdout",
     "output_type": "stream",
     "text": [
      "1 2 3 \n",
      "9 9\n",
      "[0, 2, 2, 2]\n"
     ]
    }
   ],
   "source": [
    "def addition(a1,a2,n,m):\n",
    "    if n>m:\n",
    "        zeros=[0 for i  in range(n-m)]\n",
    "        zeros.extend(a2)\n",
    "        a2=zeros.copy()\n",
    "    else:\n",
    "        zeros=[0 for i  in range(m-n)]\n",
    "        zeros.extend(a1)\n",
    "        a1=zeros.copy()\n",
    "        \n",
    "    a3 = []\n",
    "    carry = 0\n",
    "    for j in range(len(a1)-1,-1,-1):\n",
    "        sum=a1[j]+a2[j]+carry\n",
    "        digit=sum%10\n",
    "        carry=sum//10\n",
    "        a3.append(digit)\n",
    "    a3.append(carry)\n",
    "    a3.reverse()\n",
    "    return a3\n",
    "    \n",
    "li1=[int(x) for x in input().split()]\n",
    "li2=[int(y) for y in input().split()]\n",
    "n=len(li1)\n",
    "m=len(li2)\n",
    "a=addition(li1,li2,n,m)\n",
    "print(a)\n",
    "\n",
    "    "
   ]
  },
  {
   "cell_type": "markdown",
   "metadata": {},
   "source": [
    "### check the permutation"
   ]
  },
  {
   "cell_type": "code",
   "execution_count": 8,
   "metadata": {},
   "outputs": [
    {
     "name": "stdout",
     "output_type": "stream",
     "text": [
      "abcdef\n",
      "acdbe\n",
      "False\n"
     ]
    }
   ],
   "source": [
    "def check_permutation(s,s2):\n",
    "    count=[0]*256\n",
    "    for ch in s:\n",
    "        count[ord(ch)]+=1\n",
    "    for ch in s2:\n",
    "        count[ord(ch)]-=1\n",
    "    for i in range(256):\n",
    "        if count[i] !=0:\n",
    "            return False\n",
    "    return True\n",
    "    \n",
    "s=input()\n",
    "s2=input()\n",
    "a=check_permutation(s,s2)\n",
    "print(a)"
   ]
  },
  {
   "cell_type": "markdown",
   "metadata": {},
   "source": [
    "###remove consequitive nos"
   ]
  },
  {
   "cell_type": "code",
   "execution_count": 9,
   "metadata": {},
   "outputs": [
    {
     "name": "stdout",
     "output_type": "stream",
     "text": [
      "aaaaabbbcccddddddddddddddee\n",
      "abcde\n"
     ]
    }
   ],
   "source": [
    "def remove_con(s):\n",
    "    s2=''\n",
    "    for i in range(len(s)-1):\n",
    "        if s[i]==s[i+1]:\n",
    "            continue\n",
    "        else:\n",
    "            s2+=s[i]\n",
    "    s2+=s[len(s)-1]\n",
    "    return s2    \n",
    "    \n",
    "s=input()\n",
    "\n",
    "a=remove_con(s)\n",
    "print(a)"
   ]
  },
  {
   "cell_type": "markdown",
   "metadata": {},
   "source": [
    "### compress the string\n"
   ]
  },
  {
   "cell_type": "code",
   "execution_count": 10,
   "metadata": {},
   "outputs": [
    {
     "name": "stdout",
     "output_type": "stream",
     "text": [
      "aaaaaaaaaabbbbbbbbbbccdddddeeeee\n",
      "a10b10c2d5e5\n"
     ]
    }
   ],
   "source": [
    "def compress(s):\n",
    "    s2=''\n",
    "    count=0\n",
    "    for i in range(len(s)-1):\n",
    "        if s[i]==s[i+1]:\n",
    "            count+=1\n",
    "            \n",
    "        else:\n",
    "            count+=1\n",
    "            s2+=s[i]\n",
    "            if count>1:\n",
    "                s2+=str(count)\n",
    "            \n",
    "            count=0\n",
    "    s2+=s[len(s)-1]\n",
    "    count+=1\n",
    "    if count>1:\n",
    "        s2+=str(count)\n",
    "    \n",
    "    return s2   \n",
    "    \n",
    "s=input()\n",
    "\n",
    "a=compress(s)\n",
    "print(a)"
   ]
  },
  {
   "cell_type": "code",
   "execution_count": null,
   "metadata": {},
   "outputs": [],
   "source": []
  },
  {
   "cell_type": "markdown",
   "metadata": {},
   "source": [
    "### each character into string"
   ]
  },
  {
   "cell_type": "code",
   "execution_count": 11,
   "metadata": {},
   "outputs": [
    {
     "name": "stdout",
     "output_type": "stream",
     "text": [
      "a b c\n"
     ]
    }
   ],
   "source": [
    "s='abc'\n",
    "li=list(s)\n",
    "print(*li)"
   ]
  },
  {
   "cell_type": "markdown",
   "metadata": {},
   "source": [
    "### each word into string"
   ]
  },
  {
   "cell_type": "code",
   "execution_count": 13,
   "metadata": {},
   "outputs": [
    {
     "name": "stdout",
     "output_type": "stream",
     "text": [
      "my name is bhaskar\n"
     ]
    }
   ],
   "source": [
    "s=\"my name is bhaskar\"\n",
    "li=s.split()\n",
    "print(*li)"
   ]
  },
  {
   "cell_type": "markdown",
   "metadata": {},
   "source": [
    "### reverse the letter of word"
   ]
  },
  {
   "cell_type": "code",
   "execution_count": 14,
   "metadata": {},
   "outputs": [
    {
     "name": "stdout",
     "output_type": "stream",
     "text": [
      "hello my name is bhaskar\n",
      "olleh ym eman si raksahb "
     ]
    }
   ],
   "source": [
    "def reverse(s):\n",
    "    li=s.split()\n",
    "    for word in li:\n",
    "        print(word[::-1]+' ',end=\"\")\n",
    "\n",
    "\n",
    "s=input()\n",
    "reverse(s)"
   ]
  },
  {
   "cell_type": "code",
   "execution_count": 15,
   "metadata": {},
   "outputs": [
    {
     "data": {
      "text/plain": [
       "'xxbbcx'"
      ]
     },
     "execution_count": 15,
     "metadata": {},
     "output_type": "execute_result"
    }
   ],
   "source": [
    "s=\"aaaabbcaa\"\n",
    "s.replace('aa','x',s.count('aa'))"
   ]
  },
  {
   "cell_type": "markdown",
   "metadata": {},
   "source": [
    "### substrings"
   ]
  },
  {
   "cell_type": "code",
   "execution_count": null,
   "metadata": {},
   "outputs": [],
   "source": [
    "#substring\n",
    "def substring(s):\n",
    "    \n",
    "    for i in range(len(s)):\n",
    "        for j in range(i+1,len(s)+1):\n",
    "            print(s[i:j],end=\" \")\n",
    "    \n",
    "    \n",
    "    \n",
    "    \n",
    "    \n",
    "s=input()\n",
    "substring(s)\n"
   ]
  },
  {
   "cell_type": "markdown",
   "metadata": {},
   "source": [
    "### two dimensional arrays"
   ]
  },
  {
   "cell_type": "code",
   "execution_count": 16,
   "metadata": {},
   "outputs": [
    {
     "name": "stdout",
     "output_type": "stream",
     "text": [
      "3 3 1 2 3 4 5 6 7 8 9\n",
      "1 1 3 2 1 7 4 "
     ]
    }
   ],
   "source": [
    "def two_array(m,n,arr):\n",
    "    for i in range(m):\n",
    "        for j in range(n):\n",
    "            print(arr[i][j],end=\" \")\n",
    "            temp=j\n",
    "            break\n",
    "        print(arr[i][temp],end=\" \")\n",
    "        temp1=i\n",
    "        break\n",
    "    for i in range(n-1,-1,-1):\n",
    "        print(arr[temp1][i],end=\" \")\n",
    "        temp2=i\n",
    "    for l in range(m-1,0,-1):\n",
    "        print(arr[l][temp2],end=\" \")\n",
    "        \n",
    "        \n",
    "                            \n",
    "li=[int(x) for x in input().split()]\n",
    "m=li[0]\n",
    "n=li[1]\n",
    "\n",
    "arr=[[li[i*n+j+2]for j in range(n)]for i in range(m)]\n",
    "two_array(m,n,arr)\n",
    "#we"
   ]
  },
  {
   "cell_type": "code",
   "execution_count": 17,
   "metadata": {},
   "outputs": [
    {
     "name": "stdout",
     "output_type": "stream",
     "text": [
      "2 3 1 2 3 4 5 6\n",
      "[[1, 2, 3], [4, 5, 6]]\n"
     ]
    }
   ],
   "source": [
    "li=[int(x) for x in input().split()]\n",
    "m=li[0]\n",
    "n=li[1]\n",
    "arr=[[li[i*n+j+2]for j in range(n)]for i in range(m)]\n",
    "print(arr)\n"
   ]
  },
  {
   "cell_type": "markdown",
   "metadata": {},
   "source": [
    "### sum of rows or column"
   ]
  },
  {
   "cell_type": "code",
   "execution_count": 18,
   "metadata": {},
   "outputs": [
    {
     "name": "stdout",
     "output_type": "stream",
     "text": [
      "3 3 1 2 3 4 5 6 7 8 9\n",
      "12\n",
      "15\n",
      "18\n"
     ]
    }
   ],
   "source": [
    "\n",
    "\n",
    "def sum1(m,n,arr):\n",
    "    for j in range(n):\n",
    "        column_sum=0\n",
    "        for i in range(m):\n",
    "            column_sum+=arr[i][j]\n",
    "        print(column_sum)\n",
    "    \n",
    "    \n",
    "    \n",
    "li=[int(x) for x in input().split()]\n",
    "m=li[0]\n",
    "n=li[1]\n",
    "\n",
    "arr=[[li[i*n+j+2]for j in range(n)]for i in range(m)]\n",
    "\n",
    "sum1(m,n,arr)\n"
   ]
  },
  {
   "cell_type": "markdown",
   "metadata": {},
   "source": [
    "###jagged list (in which one element is missing)"
   ]
  },
  {
   "cell_type": "markdown",
   "metadata": {},
   "source": [
    "### compare the sum of rows and column"
   ]
  },
  {
   "cell_type": "code",
   "execution_count": 27,
   "metadata": {},
   "outputs": [
    {
     "name": "stdout",
     "output_type": "stream",
     "text": [
      "3 3 1 2 3 4 5 6 7 8 9\n",
      "row 2 24\n"
     ]
    }
   ],
   "source": [
    "def max1(m,n,arr):\n",
    "    row_sum=[]\n",
    "    for i in range(m):\n",
    "        row_sum.append(sum(arr[i]))\n",
    "    col_sum=[]\n",
    "    for j in range(n):\n",
    "        add=0\n",
    "        for i in range(m):\n",
    "            add+=arr[i][j]\n",
    "        col_sum.append(add)\n",
    "    row_max=0\n",
    "    for i in range(m):\n",
    "        if row_sum[i]>row_sum[row_max]:\n",
    "            row_max=i\n",
    "    col_max=0\n",
    "    for j in range(n):\n",
    "        if col_sum[j]>col_sum[col_max]:\n",
    "            col_max=j\n",
    "    if col_sum[col_max]>row_sum[row_max]:\n",
    "        print(\"col\",col_max,col_sum[col_max])\n",
    "    else:\n",
    "        print(\"row\",row_max,row_sum[row_max])\n",
    "\n",
    "\n",
    "\n",
    "\n",
    "\n",
    "li=[int(x) for x in input().split()]\n",
    "m=li[0]\n",
    "n=li[1]\n",
    "\n",
    "arr=[[li[i*n+j+2]for j in range(n)]for i in range(m)]\n",
    "max1(m,n,arr)"
   ]
  },
  {
   "cell_type": "markdown",
   "metadata": {},
   "source": [
    "### dictionary"
   ]
  },
  {
   "cell_type": "code",
   "execution_count": 19,
   "metadata": {},
   "outputs": [
    {
     "name": "stdout",
     "output_type": "stream",
     "text": [
      "aaabbaabbbcccccccccddddeeeeeeeaa\n",
      "{'a': 7, 'b': 5, 'c': 9, 'd': 4, 'e': 7}\n",
      "dict_keys(['a', 'b', 'c', 'd', 'e'])\n",
      "dict_values([7, 5, 9, 4, 7])\n"
     ]
    }
   ],
   "source": [
    "def dictionary(s):\n",
    "    d={}\n",
    "    for ch in s:\n",
    "        d[ch]=d.get(ch,0)+1\n",
    "    print(d)\n",
    "    print(d.keys())\n",
    "    print(d.values())\n",
    "\n",
    "\n",
    "\n",
    "s=input()\n",
    "dictionary(s)"
   ]
  },
  {
   "cell_type": "code",
   "execution_count": 20,
   "metadata": {},
   "outputs": [
    {
     "name": "stdout",
     "output_type": "stream",
     "text": [
      "aaaaaaaaabbbbbbbbbbsssssssssssddddddwwwsaaaaaasdddddddddddddddddddddddddddddddddddddddde\n"
     ]
    },
    {
     "data": {
      "text/plain": [
       "'d'"
      ]
     },
     "execution_count": 20,
     "metadata": {},
     "output_type": "execute_result"
    }
   ],
   "source": [
    "def dictionary(s):\n",
    "    d={}\n",
    "    for ch in s:\n",
    "        d[ch]=d.get(ch,0)+1\n",
    "    max_key=s[0]\n",
    "    for ch in s:\n",
    "        if d[ch]>d[max_key]:\n",
    "            max_key=ch\n",
    "    return max_key\n",
    "   \n",
    "\n",
    "\n",
    "\n",
    "s=input()\n",
    "dictionary(s)"
   ]
  },
  {
   "cell_type": "code",
   "execution_count": 24,
   "metadata": {},
   "outputs": [
    {
     "name": "stdout",
     "output_type": "stream",
     "text": [
      "11 22 22 22 4 5 5 5 5 2 2 2 2 4 4 4 4 3 3 3 3 1 111 \n",
      "11 22 4 5 2 3 1 111\n",
      "1 2 3 4 5 11 111 22\n"
     ]
    }
   ],
   "source": [
    "def extract(arr):\n",
    "    \n",
    "    file={}\n",
    "    for ele in arr:\n",
    "        file[ele]=file.get(ele,0)+1\n",
    "    print(*file.keys())\n",
    "        \n",
    "        \n",
    "        \n",
    "    \n",
    "    \n",
    "arr=[int(x) for x in input().split()]\n",
    "extract(arr)\n",
    "print(*set(arr))"
   ]
  },
  {
   "cell_type": "code",
   "execution_count": 25,
   "metadata": {},
   "outputs": [
    {
     "name": "stdout",
     "output_type": "stream",
     "text": [
      "the boy is to great to be called as the super great\n",
      "['the', 'boy', 'is', 'to', 'great', 'to', 'be', 'called', 'as', 'the', 'super', 'great']\n",
      "2\n",
      "the\n",
      "to\n",
      "great\n"
     ]
    }
   ],
   "source": [
    "def freq(arr,k):\n",
    "    \n",
    "    file={}\n",
    "    for ele in arr:\n",
    "        file[ele]=file.get(ele,0)+1\n",
    "    for ele in file:\n",
    "        if file[ele]==k:\n",
    "            \n",
    "            print(ele)\n",
    "    \n",
    "    \n",
    "\n",
    "\n",
    "\n",
    "\n",
    "s=input()\n",
    "arr=s.split()\n",
    "print(arr)\n",
    "k=int(input())\n",
    "freq(arr,k)"
   ]
  },
  {
   "cell_type": "code",
   "execution_count": 26,
   "metadata": {},
   "outputs": [
    {
     "name": "stdout",
     "output_type": "stream",
     "text": [
      "15 6 4 7 14 6 12 8 2 3 4 5\n",
      "18\n",
      "3 15\n",
      "4 14\n",
      "4 14\n",
      "6 12\n",
      "6 12\n"
     ]
    }
   ],
   "source": [
    "def pair_sum(arr,n):\n",
    "    arr.sort()\n",
    "    i=0\n",
    "    j=(len(arr)-1)\n",
    "    \n",
    "    while (i<j):\n",
    "        if arr[i]+arr[j]==n:\n",
    "            if arr[i]==arr[j]:\n",
    "                a=j-i+1\n",
    "                for k in range(a*(a-1)//2):\n",
    "                    print(arr[i],arr[j])\n",
    "                break\n",
    "            else:\n",
    "            \n",
    "                count1=1\n",
    "                while arr[i]==arr[i+1]:\n",
    "                    count1+=1\n",
    "                    i+=1\n",
    "                count2=1\n",
    "                while arr[j]==arr[j-1]:\n",
    "                    count2+=1\n",
    "                    j-=1\n",
    "                for k in range(count1*count2):\n",
    "                    print(arr[i],arr[j])\n",
    "                i+=1\n",
    "                j-=1\n",
    "        elif arr[i]+arr[j]>n:\n",
    "            j-=1\n",
    "        else:\n",
    "            i+=1\n",
    "\n",
    "arr=[int(x) for x in input().split()]\n",
    "n=int(input())\n",
    "pair_sum(arr,n)"
   ]
  },
  {
   "cell_type": "code",
   "execution_count": null,
   "metadata": {},
   "outputs": [],
   "source": []
  }
 ],
 "metadata": {
  "kernelspec": {
   "display_name": "Python 3",
   "language": "python",
   "name": "python3"
  },
  "language_info": {
   "codemirror_mode": {
    "name": "ipython",
    "version": 3
   },
   "file_extension": ".py",
   "mimetype": "text/x-python",
   "name": "python",
   "nbconvert_exporter": "python",
   "pygments_lexer": "ipython3",
   "version": "3.7.0"
  }
 },
 "nbformat": 4,
 "nbformat_minor": 2
}
