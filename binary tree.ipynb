{
 "cells": [
  {
   "cell_type": "code",
   "execution_count": 3,
   "metadata": {},
   "outputs": [],
   "source": [
    "# we understand about the binary trees\n",
    "\n",
    "class binaryTreeNode():\n",
    "    def __init__(self,data):\n",
    "        self.data=data\n",
    "        self.left=None\n",
    "        self.right=None\n",
    "        \n",
    "    "
   ]
  },
  {
   "cell_type": "code",
   "execution_count": 4,
   "metadata": {},
   "outputs": [],
   "source": [
    "bst1=binaryTreeNode(1)\n",
    "bst2=binaryTreeNode(2)\n",
    "bst3=binaryTreeNode(3)\n",
    "\n",
    "bst1.left=bst2\n",
    "bst1.right=bst3\n",
    "\n"
   ]
  },
  {
   "cell_type": "code",
   "execution_count": 5,
   "metadata": {},
   "outputs": [],
   "source": [
    "def printtree(root):\n",
    "    if root==None:\n",
    "        return\n",
    "    print(root.data)\n",
    "    printtree(root.left)\n",
    "    printtree(root.right)"
   ]
  },
  {
   "cell_type": "code",
   "execution_count": 6,
   "metadata": {},
   "outputs": [],
   "source": [
    "def treeprinted(root):\n",
    "    if root==None:\n",
    "        return\n",
    "    print(root.data,end=\":\")\n",
    "    if root.left!=None:\n",
    "        print(root.left.data,end=\"-L\")\n",
    "        print(\"\",end=\" \")\n",
    "        \n",
    "    if root.right!=None:\n",
    "        print(root.right.data,end=\"-R\")\n",
    "    print()\n",
    "    treeprinted(root.left)\n",
    "    treeprinted(root.right)\n",
    "        "
   ]
  },
  {
   "cell_type": "code",
   "execution_count": 25,
   "metadata": {},
   "outputs": [
    {
     "name": "stdout",
     "output_type": "stream",
     "text": [
      "1:2-L 3-R\n",
      "2:\n",
      "3:\n"
     ]
    }
   ],
   "source": [
    "treeprinted(bst1)"
   ]
  },
  {
   "cell_type": "code",
   "execution_count": 7,
   "metadata": {},
   "outputs": [],
   "source": [
    "## input tree data.\n",
    "\n",
    "#this is the preorder traversal as in this first root is addresserd and then the children.\n",
    "#root,left,right\n",
    "\n",
    "def treeinput():\n",
    "    rootdata=int(input())\n",
    "    if rootdata==-1:\n",
    "        return None\n",
    "    \n",
    "    root=binaryTreeNode(rootdata)\n",
    "    lefttree=treeinput()\n",
    "    righttree=treeinput()\n",
    "    root.left=lefttree\n",
    "    root.right=righttree\n",
    "    return root\n",
    "    \n",
    "    "
   ]
  },
  {
   "cell_type": "code",
   "execution_count": 19,
   "metadata": {},
   "outputs": [
    {
     "name": "stdout",
     "output_type": "stream",
     "text": [
      "1\n",
      "2\n",
      "4\n",
      "-1\n",
      "-1\n",
      "5\n",
      "-1\n",
      "-1\n",
      "3\n",
      "-1\n",
      "-1\n",
      "1:2-L 3-R\n",
      "2:4-L 5-R\n",
      "4:\n",
      "5:\n",
      "3:\n"
     ]
    }
   ],
   "source": [
    "n=treeinput()\n",
    "treeprinted(n)"
   ]
  },
  {
   "cell_type": "code",
   "execution_count": 8,
   "metadata": {},
   "outputs": [],
   "source": [
    "# now we will code for post order in this we will take the child first and then the parents\n",
    "# left,right,root\n",
    "\n",
    "def treeinputpost():\n",
    "    leftTree=treeinputpost()\n",
    "    root.left=leftTree\n",
    "    rightTree=treeinputpost()\n",
    "    root.right=rightTree\n",
    "    rootdata=int(input())\n",
    "    if rootdata == -1:\n",
    "        return None\n",
    "    root=treeinputpost(rootdata)\n",
    "    return root"
   ]
  },
  {
   "cell_type": "code",
   "execution_count": null,
   "metadata": {},
   "outputs": [],
   "source": []
  },
  {
   "cell_type": "code",
   "execution_count": 9,
   "metadata": {},
   "outputs": [],
   "source": [
    "#no of nodes in binary tree\n",
    "\n",
    "def nodesnum(root):\n",
    "    if root==None:\n",
    "        return 0\n",
    "    leftnode=nodesnum(root.left)\n",
    "    rightnode=nodesnum(root.right)\n",
    "    return 1+rightnode+leftnode  # 1 is added to count the node"
   ]
  },
  {
   "cell_type": "code",
   "execution_count": 24,
   "metadata": {},
   "outputs": [
    {
     "name": "stdout",
     "output_type": "stream",
     "text": [
      "1\n",
      "2\n",
      "-1\n",
      "-1\n",
      "3\n",
      "-1\n",
      "-1\n",
      "the no of nodes are: 3\n"
     ]
    }
   ],
   "source": [
    "n=treeinput()\n",
    "print(\"the no of nodes are:\",nodesnum(n))"
   ]
  },
  {
   "cell_type": "code",
   "execution_count": 10,
   "metadata": {},
   "outputs": [],
   "source": [
    "## node with largestdata\n",
    "\n",
    "def largest_data_node(root):\n",
    "    if root == None:\n",
    "        return -100\n",
    "    rootdata=root.data\n",
    "    leftnode=largest_data_node(root.left)\n",
    "    rightnode=largest_data_node(root.right)\n",
    "    value=max(rootdata,leftnode,rightnode)\n",
    "    return value"
   ]
  },
  {
   "cell_type": "code",
   "execution_count": 26,
   "metadata": {},
   "outputs": [
    {
     "name": "stdout",
     "output_type": "stream",
     "text": [
      "1\n",
      "7\n",
      "4\n",
      "-1\n",
      "-1\n",
      "2\n",
      "-1\n",
      "-1\n",
      "3\n",
      "-1\n",
      "-1\n",
      "the largest vlaue is : 7\n"
     ]
    }
   ],
   "source": [
    "n=treeinput()\n",
    "print(\"the largest vlaue is :\",largest_data_node(n))"
   ]
  },
  {
   "cell_type": "code",
   "execution_count": 11,
   "metadata": {},
   "outputs": [],
   "source": [
    "## height of the tree:\n",
    "def height_tree(root):\n",
    "    if root==None:\n",
    "        return 0\n",
    "    left_height=height_tree(root.left)\n",
    "    right_height=height_tree(root.right)\n",
    "    return 1+max(left_height,right_height)  # 1 is added to take height of node . \n",
    "    \n",
    "    "
   ]
  },
  {
   "cell_type": "code",
   "execution_count": 31,
   "metadata": {},
   "outputs": [
    {
     "name": "stdout",
     "output_type": "stream",
     "text": [
      "1\n",
      "2\n",
      "-1\n",
      "-1\n",
      "-1\n",
      "the height of the tree is : 2\n"
     ]
    }
   ],
   "source": [
    "n=treeinput()\n",
    "print(\"the height of the tree is :\",height_tree(n))"
   ]
  },
  {
   "cell_type": "code",
   "execution_count": 12,
   "metadata": {},
   "outputs": [],
   "source": [
    "## no of lEAF nodes:\n",
    "def leaf_node(root):\n",
    "    if root == None: \n",
    "        return 0\n",
    "    if (root.left == None) and (root.right == None): # this will only return the leaf node count.\n",
    "        return 1\n",
    "    leftnode=leaf_node(root.left)\n",
    "    rightnode=leaf_node(root.right)\n",
    "    return leftnode+rightnode\n",
    "        \n",
    "    "
   ]
  },
  {
   "cell_type": "code",
   "execution_count": 33,
   "metadata": {},
   "outputs": [
    {
     "name": "stdout",
     "output_type": "stream",
     "text": [
      "1\n",
      "2\n",
      "3\n",
      "-1\n",
      "-1\n",
      "4\n",
      "-1\n",
      "-1\n",
      "-1\n",
      "the no of leaf nodes are : 2\n"
     ]
    }
   ],
   "source": [
    "n=treeinput()\n",
    "print(\"the no of leaf nodes are :\",leaf_node(n))"
   ]
  },
  {
   "cell_type": "code",
   "execution_count": 13,
   "metadata": {},
   "outputs": [],
   "source": [
    "## print nodes at k depth\n",
    "\n",
    "def depth_nodes(root,k):\n",
    "    if root == None:\n",
    "        return\n",
    "    if k==0:\n",
    "        print(root.data)\n",
    "        return\n",
    "    leftnode=depth_nodes(root.left,k-1)\n",
    "    rightnode=depth_nodes(root.right,k-1)"
   ]
  },
  {
   "cell_type": "code",
   "execution_count": 36,
   "metadata": {},
   "outputs": [
    {
     "name": "stdout",
     "output_type": "stream",
     "text": [
      "1\n",
      "2\n",
      "3\n",
      "-1\n",
      "-1\n",
      "4\n",
      "-1\n",
      "-1\n",
      "3\n",
      "-1\n",
      "-1\n",
      "the value of k\n",
      "1\n",
      "2\n",
      "3\n",
      "None\n"
     ]
    }
   ],
   "source": [
    "n=treeinput()\n",
    "print(\"the value of k\")\n",
    "k=int(input())\n",
    "print(depth_nodes(n,k))"
   ]
  },
  {
   "cell_type": "code",
   "execution_count": 14,
   "metadata": {},
   "outputs": [],
   "source": [
    "# now will take another method to print the kth node with the help of depth.\n",
    "\n",
    "def depth_nodes_new(root,k,d=0):\n",
    "    if root==None:\n",
    "        return                                  #(2,0) --- (2,1)---(2,2) when (2,2) \n",
    "    if k == d:                                     #\n",
    "        print(root.data)\n",
    "        return\n",
    "    depth_nodes_new(root.left,k,d+1)\n",
    "    depth_nodes_new(root.right,k,d+1)\n",
    "    "
   ]
  },
  {
   "cell_type": "code",
   "execution_count": 47,
   "metadata": {},
   "outputs": [
    {
     "name": "stdout",
     "output_type": "stream",
     "text": [
      "1\n",
      "2\n",
      "3\n",
      "-1\n",
      "-1\n",
      "4\n",
      "-1\n",
      "-1\n",
      "5\n",
      "-1\n",
      "-1\n",
      "the value of k\n",
      "2\n",
      "3\n",
      "4\n",
      "None\n"
     ]
    }
   ],
   "source": [
    "n=treeinput()\n",
    "print(\"the value of k\")\n",
    "k=int(input())\n",
    "print(depth_nodes_new(n,k))"
   ]
  },
  {
   "cell_type": "markdown",
   "metadata": {},
   "source": [
    "# binary tree 2"
   ]
  },
  {
   "cell_type": "code",
   "execution_count": 15,
   "metadata": {},
   "outputs": [],
   "source": [
    "# remove all leaf nodes:\n",
    "\n",
    "def removeleaf(root):\n",
    "    if root==None:\n",
    "        return None\n",
    "    if (root.left == None) and (root.right == None):\n",
    "        return None\n",
    "    root.left=removeleaf(root.left)\n",
    "    root.right=removeleaf(root.right)\n",
    "    return root"
   ]
  },
  {
   "cell_type": "code",
   "execution_count": 16,
   "metadata": {},
   "outputs": [
    {
     "name": "stdout",
     "output_type": "stream",
     "text": [
      "1\n",
      "2\n",
      "-1\n",
      "-1\n",
      "-1\n"
     ]
    }
   ],
   "source": [
    "n=treeinput()\n",
    "b=removeleaf(n)\n",
    "\n",
    "treeprinted(b)\n"
   ]
  },
  {
   "cell_type": "code",
   "execution_count": 16,
   "metadata": {},
   "outputs": [],
   "source": [
    "#check if bst is balanced or not?\n",
    "\n",
    "def check_balanced(root):\n",
    "    if root==None:\n",
    "        return True\n",
    "    lh=height_tree(root.left)\n",
    "    rh=height_tree(root.right)\n",
    "    \n",
    "    if (lh-rh>1) or (rh-lh>1):\n",
    "        return False\n",
    "    left_balanced=check_balanced(root.left)\n",
    "    right_balanced=check_balanced(root.right)\n",
    "    \n",
    "    if left_balanced and right_balanced:\n",
    "        return True\n",
    "    else:\n",
    "        return False\n",
    "    "
   ]
  },
  {
   "cell_type": "code",
   "execution_count": 19,
   "metadata": {},
   "outputs": [
    {
     "name": "stdout",
     "output_type": "stream",
     "text": [
      "1\n",
      "2\n",
      "-1\n",
      "-1\n",
      "-1\n",
      "True\n",
      "1:2-L \n",
      "2:\n"
     ]
    }
   ],
   "source": [
    "n=treeinput()\n",
    "b=check_balanced(n)\n",
    "print(b)\n",
    "treeprinted(n)\n",
    "    "
   ]
  },
  {
   "cell_type": "code",
   "execution_count": 20,
   "metadata": {},
   "outputs": [],
   "source": [
    "# now we will see anothe function that will give us the same result but in O(n) time.\n",
    "\n",
    "def check_balanced_new(root):\n",
    "    if root==None:\n",
    "        return 0,True\n",
    "    lh,isleftBalanced=check_balanced_new(root.left)\n",
    "    rh,isrightBalanced=check_balanced_new(root.right)\n",
    "    h=1+max(lh,rh)\n",
    "    if lh-rh>1 or rh-lh>1:\n",
    "        return h,False\n",
    "    if isleftBalanced and isrightBalanced:\n",
    "        return h,True\n",
    "    else:\n",
    "        return h,False\n",
    "    "
   ]
  },
  {
   "cell_type": "code",
   "execution_count": 22,
   "metadata": {},
   "outputs": [
    {
     "name": "stdout",
     "output_type": "stream",
     "text": [
      "1\n",
      "2\n",
      "3\n",
      "-1\n",
      "-1\n",
      "4\n",
      "-1\n",
      "-1\n",
      "2\n",
      "-1\n",
      "-1\n",
      "(3, True)\n",
      "1:2-L 2-R\n",
      "2:3-L 4-R\n",
      "3:\n",
      "4:\n",
      "2:\n"
     ]
    }
   ],
   "source": [
    "n=treeinput()\n",
    "b=check_balanced_new(n)\n",
    "print(b)\n",
    "treeprinted(n)"
   ]
  },
  {
   "cell_type": "code",
   "execution_count": 23,
   "metadata": {},
   "outputs": [],
   "source": [
    "# diameter of a tree\n",
    "\n",
    "def diameter(root):\n",
    "    if root==None:\n",
    "        return 0\n",
    "    lh=height_tree(root.left)\n",
    "    rh=height_tree(root.right)\n",
    "    \n",
    "    ld=diameter(root.left)\n",
    "    rd=diameter(root.right)\n",
    "    return max(lh+rh+1,max(lh,rh))"
   ]
  },
  {
   "cell_type": "code",
   "execution_count": 25,
   "metadata": {},
   "outputs": [
    {
     "name": "stdout",
     "output_type": "stream",
     "text": [
      "1\n",
      "2\n",
      "3\n",
      "-1\n",
      "-1\n",
      "4\n",
      "-1\n",
      "-1\n",
      "5\n",
      "-1\n",
      "-1\n",
      "4\n",
      "1:2-L 5-R\n",
      "2:3-L 4-R\n",
      "3:\n",
      "4:\n",
      "5:\n"
     ]
    }
   ],
   "source": [
    "n=treeinput()\n",
    "b=diameter(n)\n",
    "print(b)\n",
    "treeprinted(n)"
   ]
  },
  {
   "cell_type": "code",
   "execution_count": null,
   "metadata": {},
   "outputs": [],
   "source": [
    "# tree input in level wise"
   ]
  },
  {
   "cell_type": "code",
   "execution_count": 42,
   "metadata": {},
   "outputs": [],
   "source": [
    "import queue\n",
    "def levelwise_input():\n",
    "    q=queue.Queue()\n",
    "    print(\"hey give me the root\")\n",
    "    rootData=int(input())\n",
    "    if (rootData == -1):\n",
    "        return None\n",
    "    root=binaryTreeNode(rootData)\n",
    "    q.put(root)\n",
    "    while (not(q.empty())):\n",
    "        current_node=q.get()\n",
    "        \n",
    "        print(\"enter the left child\",current_node.data)\n",
    "        root_left_data=print(int(input()))\n",
    "        if root_left_data != -1:\n",
    "            left_child=binaryTreeNode(root_left_data)\n",
    "            current_node.left=left_child\n",
    "            q.put(left_child)\n",
    "            \n",
    "        print(\"enter the right child\",current_node.data)\n",
    "        root_right_data=print(int(input()))\n",
    "        if root_right_data != -1:\n",
    "            right_child=binaryTreeNode(root_right_data)\n",
    "            current_node.right=right_child\n",
    "            q.put(right_child)\n",
    "            \n",
    "    return root\n",
    "            \n",
    "            \n",
    "            "
   ]
  },
  {
   "cell_type": "code",
   "execution_count": null,
   "metadata": {},
   "outputs": [],
   "source": [
    "n=levelwise_input()\n",
    "\n",
    "treeprinted(n)"
   ]
  },
  {
   "cell_type": "code",
   "execution_count": null,
   "metadata": {},
   "outputs": [],
   "source": []
  },
  {
   "cell_type": "code",
   "execution_count": null,
   "metadata": {},
   "outputs": [],
   "source": []
  }
 ],
 "metadata": {
  "kernelspec": {
   "display_name": "Python 3.7.1 64-bit",
   "language": "python",
   "name": "python37164bit30fb801fd8264cc3bd050c47a8af4bdf"
  },
  "language_info": {
   "codemirror_mode": {
    "name": "ipython",
    "version": 3
   },
   "file_extension": ".py",
   "mimetype": "text/x-python",
   "name": "python",
   "nbconvert_exporter": "python",
   "pygments_lexer": "ipython3",
   "version": "3.7.1"
  }
 },
 "nbformat": 4,
 "nbformat_minor": 4
}
