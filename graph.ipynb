{
 "cells": [
  {
   "cell_type": "code",
   "execution_count": 23,
   "metadata": {},
   "outputs": [],
   "source": [
    "# we will be using a adjancecy matrix \n",
    "\n",
    "import queue\n",
    "\n",
    "class Graph():\n",
    "    def __init__(self,Vertices):\n",
    "        self.Vertices=Vertices\n",
    "        self.adjMatrix=[[0 for i in range (Vertices) ] for j in range(Vertices)]\n",
    "    \n",
    "    def addEdge(self,v1,v2):\n",
    "        self.adjMatrix[v1][v2]=1\n",
    "        self.adjMatrix[v2][v1]=1\n",
    "        # this is a 2 side directed graph \n",
    "        \n",
    "    def isEgde(self,v1,v2):\n",
    "        return True if self.adjMatrix[v1][v2] > 0 else False\n",
    "    \n",
    "    def removeEdge(self,v1,v2):\n",
    "        if self.isEdge(v1,v2):\n",
    "            self.adjMatrix[v1][v2] = 0\n",
    "            self.adjMatrix[v2][v1] = 0\n",
    "        else:\n",
    "            return\n",
    "        \n",
    "    def __str__(self):\n",
    "        return str(self.adjMatrix)\n",
    "    \n",
    "    def __dfsHelper(self,sv,visited):\n",
    "        \n",
    "        print(sv)\n",
    "        visited[sv]=True\n",
    "        for i in range(self.Vertices):\n",
    "            if (self.adjMatrix[sv][i]>0) and visited[i] is False:\n",
    "                self.__dfsHelper(i,visited)\n",
    "   \n",
    "            \n",
    "    def dfs(self):\n",
    "        visited=[False for i in range(self.Vertices)]\n",
    "        self.__dfsHelper(0,visited)\n",
    "    \n",
    "    def bfs(self):\n",
    "        q=queue.Queue()\n",
    "        q.put(0)\n",
    "        visited=[False for i in range(self.Vertices)]\n",
    "        visited[0]=True\n",
    "        while q.empty() is False:\n",
    "            u=q.get()\n",
    "            print(u)\n",
    "            for i in range(self.Vertices):\n",
    "                if self.adjMatrix[u][i]>0 and visited[i] is False:\n",
    "                    q.put(i)\n",
    "                    visited[i]=True\n",
    "                    \n",
    "    def helper_has_path(self,s,e,visited):\n",
    "        if self.adjMatrix[s][e]==1:\n",
    "            return True\n",
    "        visited[s]=True\n",
    "        ans=False\n",
    "        for i in range(self.Vertices):\n",
    "            if self.adjMatrix[s][i]>0 and not visited[i]:\n",
    "                visited[i]=True\n",
    "                ans=self.helper_has_path(i,e,visited)\n",
    "                if ans:\n",
    "                    return True\n",
    "        return False\n",
    "    def has_path(self,s,e):\n",
    "        visited=[False for i in range(self.Vertices)]\n",
    "        return self.helper_has_path(s,e,visited)\n",
    "        \n",
    "        \n",
    "            \n",
    "            \n",
    "        "
   ]
  },
  {
   "cell_type": "code",
   "execution_count": 25,
   "metadata": {},
   "outputs": [
    {
     "name": "stdout",
     "output_type": "stream",
     "text": [
      "[[0, 1, 0, 0, 0], [1, 0, 0, 1, 0], [0, 0, 0, 1, 1], [0, 1, 1, 0, 0], [0, 0, 1, 0, 0]]\n",
      "0\n",
      "1\n",
      "3\n",
      "2\n",
      "4\n",
      "bfs here \n",
      "0\n",
      "1\n",
      "3\n",
      "2\n",
      "4\n"
     ]
    }
   ],
   "source": [
    "g=Graph(5)\n",
    "g.addEdge(0,1)\n",
    "g.addEdge(1,3)\n",
    "g.addEdge(3,2)\n",
    "g.addEdge(2,4)\n",
    "\n",
    "print(g)\n",
    "g.dfs()\n",
    "print(\"bfs here \")\n",
    "g.bfs()\n",
    "\n"
   ]
  },
  {
   "cell_type": "code",
   "execution_count": null,
   "metadata": {},
   "outputs": [],
   "source": [
    "\n",
    "    \n",
    "        \n",
    "        \n",
    "V,E=input().split()\n",
    "V,E=int(V),int(E)\n",
    "g=Graph(V)\n",
    "for i in range(E):\n",
    "    a,b=input().split()\n",
    "    a,b=int(a),int(b)\n",
    "    g.addedge(a,b)\n",
    "s,e=input().split()\n",
    "s,e=int(s),int(e)    \n",
    "if g.has_path(s,e):\n",
    "    print('true')\n",
    "else:\n",
    "    print('false')\n",
    "    "
   ]
  },
  {
   "cell_type": "code",
   "execution_count": null,
   "metadata": {},
   "outputs": [],
   "source": []
  },
  {
   "cell_type": "code",
   "execution_count": null,
   "metadata": {},
   "outputs": [],
   "source": []
  },
  {
   "cell_type": "code",
   "execution_count": null,
   "metadata": {},
   "outputs": [],
   "source": []
  },
  {
   "cell_type": "code",
   "execution_count": null,
   "metadata": {},
   "outputs": [],
   "source": []
  },
  {
   "cell_type": "code",
   "execution_count": null,
   "metadata": {},
   "outputs": [],
   "source": []
  },
  {
   "cell_type": "code",
   "execution_count": null,
   "metadata": {},
   "outputs": [],
   "source": []
  }
 ],
 "metadata": {
  "kernelspec": {
   "display_name": "Python 3.7.1 64-bit",
   "language": "python",
   "name": "python37164bit30fb801fd8264cc3bd050c47a8af4bdf"
  },
  "language_info": {
   "codemirror_mode": {
    "name": "ipython",
    "version": 3
   },
   "file_extension": ".py",
   "mimetype": "text/x-python",
   "name": "python",
   "nbconvert_exporter": "python",
   "pygments_lexer": "ipython3",
   "version": "3.7.1"
  }
 },
 "nbformat": 4,
 "nbformat_minor": 4
}
