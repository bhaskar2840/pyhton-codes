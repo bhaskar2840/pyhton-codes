{
 "cells": [
  {
   "cell_type": "code",
   "execution_count": 16,
   "metadata": {},
   "outputs": [],
   "source": [
    "# we will be using stack as array in this question \n",
    "\n",
    "\n",
    "#always try solving using diagram\n",
    "\n",
    "\n",
    "class Stacks():\n",
    "    def __init__(self):\n",
    "        self.__list = []\n",
    "        \n",
    "    def isempty(self):\n",
    "        return len(self.__list)==0\n",
    "        \n",
    "    def push(self,data):\n",
    "        return self.__list.append(data)\n",
    "    def pop(self):\n",
    "        if self.isempty():\n",
    "            print(\"hey stack is empty!\")\n",
    "            return\n",
    "        return self.__list.pop()\n",
    "    def size(self):\n",
    "        return len(self.__list)\n",
    "    def top(self):\n",
    "        if isempty() is True:\n",
    "            print(\"hey stack is empty\")\n",
    "            return\n",
    "        return (self.__list[len(self.__list)-1])\n",
    "        \n",
    "        "
   ]
  },
  {
   "cell_type": "code",
   "execution_count": 17,
   "metadata": {},
   "outputs": [
    {
     "name": "stdout",
     "output_type": "stream",
     "text": [
      "54\n",
      "34\n",
      "24\n",
      "10\n"
     ]
    }
   ],
   "source": [
    "s=Stacks()\n",
    "s.push(10)\n",
    "s.push(24)\n",
    "s.push(34)\n",
    "s.push(54)\n",
    "\n",
    "while s.isempty() is False:\n",
    "    print(s.pop())"
   ]
  },
  {
   "cell_type": "code",
   "execution_count": 82,
   "metadata": {},
   "outputs": [],
   "source": [
    "class node():\n",
    "    def __init__(self,data):\n",
    "        self.data=data\n",
    "        self.next=None\n",
    "    "
   ]
  },
  {
   "cell_type": "code",
   "execution_count": 95,
   "metadata": {},
   "outputs": [],
   "source": [
    "# we will see the implementation of stacks using ll:\n",
    "\n",
    "class Stack():\n",
    "    def __init__(self):\n",
    "        self.__head = None\n",
    "        self.__count= 0\n",
    "    \n",
    "    def push(self,data):\n",
    "        newNode = node(data)\n",
    "        newNode.next=self.__head\n",
    "        self.__head=newNode\n",
    "        self.__count=self.__count+1\n",
    "        \n",
    "    def isEmpty(self):\n",
    "        return self.size() ==0\n",
    "   \n",
    "    def pop(self):\n",
    "        if self.__count==0:\n",
    "            print(\"hey stack is empty\")\n",
    "            return\n",
    "        \n",
    "        data=self.__head.data\n",
    "        self.__head=self.__head\n",
    "        self.__count=self.__count-1\n",
    "        return data\n",
    "    \n",
    "    def top(self):\n",
    "        if self.__count==0:\n",
    "            print(\"hey stack is empty\")\n",
    "            return\n",
    "        return self.__head.data\n",
    "    \n",
    "    def size(self):\n",
    "        return self.__count\n",
    "         \n",
    "        \n",
    "        \n",
    "        \n",
    "        "
   ]
  },
  {
   "cell_type": "code",
   "execution_count": 97,
   "metadata": {},
   "outputs": [
    {
     "name": "stdout",
     "output_type": "stream",
     "text": [
      "30\n",
      "30\n",
      "30\n"
     ]
    }
   ],
   "source": [
    "s=Stack()\n",
    "s.push(10)\n",
    "s.push(20)\n",
    "s.push(30)\n",
    "\n",
    "while not s.isEmpty():\n",
    "    print(s.pop())"
   ]
  },
  {
   "cell_type": "code",
   "execution_count": 85,
   "metadata": {},
   "outputs": [],
   "source": [
    "def reverseStack(l1,l2):\n",
    "    if len(l1)<=1:\n",
    "        return\n",
    "    \n",
    "    while (len(l1) !=1):\n",
    "        a=l1.pop()\n",
    "        l2.append(a)\n",
    "        \n",
    "    lastelement=l1.pop()\n",
    "    while(len(l2)!=0):\n",
    "        b=l2.pop()\n",
    "        l1.append(b)\n",
    "    reverseStack(l1,l2)\n",
    "    l1.append(lastelement)\n",
    "    "
   ]
  },
  {
   "cell_type": "code",
   "execution_count": 86,
   "metadata": {},
   "outputs": [
    {
     "name": "stdout",
     "output_type": "stream",
     "text": [
      "1 2 3 4 5\n",
      "1 2 3 4 5 "
     ]
    }
   ],
   "source": [
    "## reversing a stack using a empty stack and get into the same stack.\n",
    "from sys import setrecursionlimit\n",
    "setrecursionlimit(11000)\n",
    "\n",
    "l1=[int(x) for x in input().split()]\n",
    "l2=[]\n",
    "reverseStack(l1,l2)\n",
    "while len(l1)!=0:\n",
    "    print(l1.pop(),end = \" \")\n",
    "\n"
   ]
  },
  {
   "cell_type": "code",
   "execution_count": 87,
   "metadata": {},
   "outputs": [
    {
     "name": "stdout",
     "output_type": "stream",
     "text": [
      "10\n",
      "20\n",
      "30\n",
      "40\n"
     ]
    }
   ],
   "source": [
    "## now we will see the inbuilt stacks and queues\n",
    "\n",
    "import queue\n",
    "\n",
    "# fifo \n",
    "q=queue.Queue()\n",
    "q.put(10)\n",
    "q.put(20)\n",
    "q.put(30)\n",
    "q.put(40)\n",
    "\n",
    "while not q.empty():\n",
    "    print(q.get())"
   ]
  },
  {
   "cell_type": "code",
   "execution_count": 88,
   "metadata": {},
   "outputs": [
    {
     "name": "stdout",
     "output_type": "stream",
     "text": [
      "40\n",
      "30\n",
      "20\n",
      "10\n"
     ]
    }
   ],
   "source": [
    "#lifo \n",
    "s=queue.LifoQueue()\n",
    "s.put(10)\n",
    "s.put(20)\n",
    "s.put(30)\n",
    "s.put(40)\n",
    "\n",
    "while not s.empty():\n",
    "    print(s.get())\n"
   ]
  },
  {
   "cell_type": "markdown",
   "metadata": {},
   "source": [
    "# we will see the queue operation "
   ]
  },
  {
   "cell_type": "code",
   "execution_count": 89,
   "metadata": {},
   "outputs": [],
   "source": [
    "#queue using array\n",
    "\n",
    "class Queue1():\n",
    "    def __init__(self):\n",
    "        self.__arr=[]\n",
    "        self.__count=0\n",
    "        self.__front=0\n",
    "        \n",
    "    def enqueue(self,data):\n",
    "        self.__arr.append(data)\n",
    "        self.__count=self.__count+1\n",
    "        \n",
    "    def dequeue(self):\n",
    "        if self.__count ==0:\n",
    "            return -1\n",
    "        element=self.__arr[self.__front]\n",
    "        self.__front+=1\n",
    "        self.__count-=1\n",
    "        return element\n",
    "    \n",
    "    def front(self):\n",
    "        if self.__count==0:\n",
    "            return -1\n",
    "        return self.__arr[self.__front]\n",
    "    \n",
    "    def size(self):\n",
    "        return self.__count\n",
    "    def isEmpty(self):\n",
    "        return self.size()==0\n",
    "    \n",
    "   \n",
    "    \n",
    "    \n",
    "        \n",
    "        "
   ]
  },
  {
   "cell_type": "code",
   "execution_count": 90,
   "metadata": {},
   "outputs": [
    {
     "name": "stdout",
     "output_type": "stream",
     "text": [
      "1\n",
      "22\n",
      "22\n"
     ]
    }
   ],
   "source": [
    "q=Queue1()\n",
    "q.enqueue(1)\n",
    "q.enqueue(22)\n",
    "q.enqueue(14)\n",
    "q.enqueue(15)\n",
    "q.enqueue(16)\n",
    "\n",
    "\n",
    "print(q.front())\n",
    "q.dequeue()\n",
    "print(q.front())\n",
    "print(q.dequeue())"
   ]
  },
  {
   "cell_type": "code",
   "execution_count": 93,
   "metadata": {},
   "outputs": [],
   "source": [
    "## queue using LL\n",
    "\n",
    "class Queuell():\n",
    "    def __init__(self):\n",
    "        self.__head=None\n",
    "        self.__tail=None\n",
    "        self.__count=0\n",
    "    def enqueue(self,data):\n",
    "        newNode=node(data)\n",
    "        if self.__head is None:\n",
    "            self.__head=newNode\n",
    "        else:\n",
    "            self.__tail.next=newNode\n",
    "            \n",
    "        \n",
    "        self.__tail=newNode\n",
    "        self.__count+=1\n",
    "        \n",
    "    def dequeue(self):\n",
    "        if self.__head is None:\n",
    "            print(\"hey! Queue is Empty\")\n",
    "            return\n",
    "        data=self.__head.data\n",
    "        \n",
    "        self.__head=self.__head.next\n",
    "        self.__count-=1\n",
    "        return data\n",
    "    \n",
    "    def isEmpty(self):\n",
    "        return self.size()==0\n",
    "    \n",
    "    def size(self):\n",
    "        return self.__count\n",
    "    \n",
    "    def front(self):\n",
    "        if self.__head is None:\n",
    "            print(\"hey this is empty\")\n",
    "            return\n",
    "        data=self.__head.data\n",
    "        return data\n",
    "        \n",
    "        \n",
    "        \n",
    "        "
   ]
  },
  {
   "cell_type": "code",
   "execution_count": 94,
   "metadata": {},
   "outputs": [
    {
     "name": "stdout",
     "output_type": "stream",
     "text": [
      "1\n",
      "22\n",
      "22\n"
     ]
    }
   ],
   "source": [
    "q=Queuell()\n",
    "q.enqueue(1)\n",
    "q.enqueue(22)\n",
    "q.enqueue(14)\n",
    "q.enqueue(15)\n",
    "q.enqueue(16)\n",
    "\n",
    "\n",
    "print(q.front())\n",
    "q.dequeue()\n",
    "print(q.front())\n",
    "print(q.dequeue())"
   ]
  },
  {
   "cell_type": "markdown",
   "metadata": {},
   "source": [
    "# queue using 2 stack"
   ]
  },
  {
   "cell_type": "code",
   "execution_count": null,
   "metadata": {},
   "outputs": [],
   "source": [
    "#in this we will 2 options 1st is that the enqueue option is of order 1 and dequeue is of order n \n",
    "## and other is enqueue is order n and dequeue is of order 1.\n",
    "\n",
    "# we will se the 2nd case."
   ]
  },
  {
   "cell_type": "code",
   "execution_count": 99,
   "metadata": {},
   "outputs": [],
   "source": [
    "class queue2stack():\n",
    "    def __init__(self):\n",
    "        self.__q1=[]\n",
    "        self.__q2=[]\n",
    "        \n",
    "    def enqueue(self,data):\n",
    "    \n",
    "        while len(self.__q1)!=0:\n",
    "                    self.__q2.append(self.__q1.pop())\n",
    "            \n",
    "\n",
    "        self.__q1.append(data)\n",
    "        \n",
    "        while len(self.__q2)!=0:\n",
    "            self.__q1.append(self.__q2.pop())\n",
    "        return\n",
    "            \n",
    "    def dequeue(self):\n",
    "        if (len(self.__q1)==0):\n",
    "            return -1\n",
    "        return self.__q1.pop()\n",
    "    \n",
    "    def front(self):\n",
    "        if(len(self.__q1)==0):\n",
    "            return -1\n",
    "        return self.__q1[-1]\n",
    "    \n",
    "    def size(self):\n",
    "        return len(self.__q1)\n",
    "    \n",
    "    def isEmpty(self):\n",
    "        return self.size()==0\n",
    "            \n",
    "        \n",
    "        "
   ]
  },
  {
   "cell_type": "code",
   "execution_count": 102,
   "metadata": {},
   "outputs": [
    {
     "data": {
      "text/plain": [
       "14"
      ]
     },
     "execution_count": 102,
     "metadata": {},
     "output_type": "execute_result"
    }
   ],
   "source": [
    "q=queue2stack()\n",
    "q.enqueue(1)\n",
    "q.enqueue(22)\n",
    "q.enqueue(14)\n",
    "q.enqueue(15)\n",
    "q.enqueue(16)\n",
    "\n",
    "q.dequeue()\n",
    "q.dequeue()\n",
    "q.dequeue()\n",
    "\n"
   ]
  },
  {
   "cell_type": "code",
   "execution_count": null,
   "metadata": {},
   "outputs": [],
   "source": []
  }
 ],
 "metadata": {
  "kernelspec": {
   "display_name": "Python 3",
   "language": "python",
   "name": "python3"
  },
  "language_info": {
   "codemirror_mode": {
    "name": "ipython",
    "version": 3
   },
   "file_extension": ".py",
   "mimetype": "text/x-python",
   "name": "python",
   "nbconvert_exporter": "python",
   "pygments_lexer": "ipython3",
   "version": "3.7.0"
  }
 },
 "nbformat": 4,
 "nbformat_minor": 2
}
