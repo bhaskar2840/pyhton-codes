{
 "cells": [
  {
   "cell_type": "code",
   "execution_count": 3,
   "metadata": {},
   "outputs": [],
   "source": [
    "# search a node in a Bst.\n",
    " # a binary search tree is a tree that has no less than root on the left side and the  no \n",
    "    #more than root on the right side.\n",
    "\n",
    "class binaryTreeNode():\n",
    "    def __init__(self,data):\n",
    "        self.data=data\n",
    "        self.left=None\n",
    "        self.right=None\n",
    "        \n",
    "\n",
    "        \n"
   ]
  },
  {
   "cell_type": "code",
   "execution_count": 4,
   "metadata": {},
   "outputs": [],
   "source": [
    "def treeinput():\n",
    "    rootdata=int(input())\n",
    "    if rootdata==-1:\n",
    "        return None\n",
    "    \n",
    "    root=binaryTreeNode(rootdata)\n",
    "    lefttree=treeinput()\n",
    "    righttree=treeinput()\n",
    "    root.left=lefttree\n",
    "    root.right=righttree\n",
    "    return root\n",
    "    "
   ]
  },
  {
   "cell_type": "code",
   "execution_count": 5,
   "metadata": {},
   "outputs": [],
   "source": [
    "def treeprinted(root):\n",
    "    if root==None:\n",
    "        return\n",
    "    print(root.data,end=\":\")\n",
    "    if root.left!=None:\n",
    "        print(root.left.data,end=\"-L\")\n",
    "        print(\"\",end=\" \")\n",
    "        \n",
    "    if root.right!=None:\n",
    "        print(root.right.data,end=\"-R\")\n",
    "    print()\n",
    "    treeprinted(root.left)\n",
    "    treeprinted(root.right)\n",
    "        "
   ]
  },
  {
   "cell_type": "code",
   "execution_count": 7,
   "metadata": {},
   "outputs": [],
   "source": [
    "# search a node in bst.\n",
    "\n",
    "def searchbst(root,x):\n",
    "    if root == None:\n",
    "        return False\n",
    "    if root.data == x:\n",
    "        return True\n",
    "    if root.data > x:\n",
    "        searchbst(root.left,x)\n",
    "    else:\n",
    "        searchbst(root.right,x)"
   ]
  },
  {
   "cell_type": "code",
   "execution_count": 14,
   "metadata": {},
   "outputs": [
    {
     "name": "stdout",
     "output_type": "stream",
     "text": [
      "4\n",
      "3\n",
      "2\n",
      "-1\n",
      "-1\n",
      "-1\n",
      "-1\n",
      "4:3-L \n",
      "3:2-L \n",
      "2:\n",
      "enter a node to find,\n",
      "2\n",
      "None\n"
     ]
    }
   ],
   "source": [
    "n=treeinput()\n",
    "treeprinted(n)\n",
    "print(\"enter a node to find,\")\n",
    "x=int(input())\n",
    "print(searchbst(n,x))"
   ]
  },
  {
   "cell_type": "code",
   "execution_count": 24,
   "metadata": {},
   "outputs": [],
   "source": [
    "### print all elements between k1 and k2:\\\n",
    "\n",
    "def printbtw_no(root,k1,k2):\n",
    "    if root==None:\n",
    "        return \n",
    "    if root.data>k2:\n",
    "        printbtw_no(root.left,k1,k2)\n",
    "    if root.data<k1:\n",
    "        printbtw_no(root.right,k1,k2)\n",
    "    else:\n",
    "        print(root.data)\n",
    "        printbtw_no(root.left,k1,k2)\n",
    "        printbtw_no(root.right,k1,k2)\n",
    "        "
   ]
  },
  {
   "cell_type": "code",
   "execution_count": 25,
   "metadata": {},
   "outputs": [
    {
     "name": "stdout",
     "output_type": "stream",
     "text": [
      "4\n",
      "3\n",
      "2\n",
      "1\n",
      "-1\n",
      "-1\n",
      "-1\n",
      "-1\n",
      "7\n",
      "-1\n",
      "-1\n",
      "4:3-L 7-R\n",
      "3:2-L \n",
      "2:1-L \n",
      "1:\n",
      "7:\n",
      "enter a node to find,\n",
      "2\n",
      "6\n",
      "the nodes are\n",
      "4\n",
      "3\n",
      "2\n",
      "7\n"
     ]
    }
   ],
   "source": [
    "n=treeinput()\n",
    "treeprinted(n)\n",
    "print(\"enter a node to find,\")\n",
    "x=int(input())\n",
    "y=int(input())\n",
    "print(\"the nodes are\")\n",
    "printbtw_no(n,x,y)"
   ]
  },
  {
   "cell_type": "code",
   "execution_count": 47,
   "metadata": {},
   "outputs": [],
   "source": [
    "# convert sorted arr to bst\n",
    "\n",
    "def convert_to_bst(input):\n",
    "    if not input:\n",
    "        return None\n",
    "    mid=(len(input)-1)//2\n",
    "    root=binaryTreeNode(input[mid])\n",
    "    root.left=convert_to_bst(input[:mid])\n",
    "    root.right=convert_to_bst(input[(mid+1):])\n",
    "    return root\n",
    "    "
   ]
  },
  {
   "cell_type": "code",
   "execution_count": 49,
   "metadata": {},
   "outputs": [
    {
     "ename": "TypeError",
     "evalue": "'list' object is not callable",
     "output_type": "error",
     "traceback": [
      "\u001b[1;31m---------------------------------------------------------------------------\u001b[0m",
      "\u001b[1;31mTypeError\u001b[0m                                 Traceback (most recent call last)",
      "\u001b[1;32m<ipython-input-49-818dfbd1ce97>\u001b[0m in \u001b[0;36m<module>\u001b[1;34m\u001b[0m\n\u001b[1;32m----> 1\u001b[1;33m \u001b[0minput\u001b[0m\u001b[1;33m=\u001b[0m\u001b[0mint\u001b[0m\u001b[1;33m(\u001b[0m\u001b[0minput\u001b[0m\u001b[1;33m(\u001b[0m\u001b[1;33m)\u001b[0m\u001b[1;33m)\u001b[0m\u001b[1;33m\u001b[0m\u001b[1;33m\u001b[0m\u001b[0m\n\u001b[0m\u001b[0;32m      2\u001b[0m \u001b[0mb\u001b[0m\u001b[1;33m=\u001b[0m\u001b[0mconvert_to_bst\u001b[0m\u001b[1;33m(\u001b[0m\u001b[0minput\u001b[0m\u001b[1;33m)\u001b[0m\u001b[1;33m\u001b[0m\u001b[1;33m\u001b[0m\u001b[0m\n\u001b[0;32m      3\u001b[0m \u001b[0mtreeprinted\u001b[0m\u001b[1;33m(\u001b[0m\u001b[0mb\u001b[0m\u001b[1;33m)\u001b[0m\u001b[1;33m\u001b[0m\u001b[1;33m\u001b[0m\u001b[0m\n",
      "\u001b[1;31mTypeError\u001b[0m: 'list' object is not callable"
     ]
    }
   ],
   "source": [
    "input=int(input())\n",
    "b=convert_to_bst(input)\n",
    "treeprinted(b)"
   ]
  },
  {
   "cell_type": "code",
   "execution_count": 32,
   "metadata": {},
   "outputs": [],
   "source": [
    "# check if bst is balanced (o(n*2) time complexity)\n",
    "\n",
    "def minTree(root):\n",
    "    if root == None:\n",
    "        return 100000\n",
    "    leftmin=minTree(root.left)\n",
    "    rightmin=minTree(root.right)\n",
    "    return min(leftmin,rightmin,root.data)\n",
    "\n",
    "def maxTree(root):\n",
    "    if root == None:\n",
    "        return -10000\n",
    "    leftmax=maxTree(root.left)\n",
    "    rightmax=maxTree(root.right)\n",
    "    return max(leftmax,rightmax,root.data)\n",
    "\n",
    "def isbst_balanced(root):\n",
    "    if root==None:\n",
    "        return True\n",
    "    leftMax=maxTree(root.left)\n",
    "    rightMin=minTree(root.right)\n",
    "    if root.data<leftMax or root.data>=rightMin:\n",
    "        return False\n",
    "    \n",
    "    leftbst=isbst_balanced(root.left)\n",
    "    rightbst=isbst_balanced(root.right)\n",
    "    return leftbst and rightbst\n",
    "    "
   ]
  },
  {
   "cell_type": "code",
   "execution_count": 33,
   "metadata": {},
   "outputs": [
    {
     "name": "stdout",
     "output_type": "stream",
     "text": [
      "2\n",
      "1\n",
      "-1\n",
      "-1\n",
      "3\n",
      "-1\n",
      "-1\n",
      "2:1-L 3-R\n",
      "1:\n",
      "3:\n",
      "True\n"
     ]
    }
   ],
   "source": [
    "n=treeinput()\n",
    "treeprinted(n)\n",
    "print(isbst_balanced(n))"
   ]
  },
  {
   "cell_type": "code",
   "execution_count": null,
   "metadata": {},
   "outputs": [],
   "source": [
    "#is bst with reduced time complexity\n",
    "\n",
    "def isBst2(root):\n",
    "    if root is None:\n",
    "        return 10000, -10000, True\n",
    "    leftmin,leftmax,isleftBst2(root.left)\n",
    "    rightmin,rightmax,isrightBst2(root.right)\n",
    "    \n",
    "    minimum=min(leftmin,rightmin,root.data)\n",
    "    maximum=max(leftmax,rightmax,root.data)\n",
    "    \n",
    "    isBsttrue=True\n",
    "    if root.data<=leftmax or root.data>rightmin:\n",
    "        isBsttrue=False\n",
    "    if not(isleftBst2) or not(isrightBst2):\n",
    "        isBsttrue=False\n",
    "    return minimum,maximum,isBsttrue\n",
    "    \n",
    "    \n",
    "    \n",
    "    "
   ]
  },
  {
   "cell_type": "code",
   "execution_count": 6,
   "metadata": {},
   "outputs": [],
   "source": [
    "# finding the path to node\n",
    "\n",
    "def root_to_node(root,s):\n",
    "    if root ==None:\n",
    "        return None\n",
    "    if root.data==s:\n",
    "        l=list()\n",
    "        l.append(root.data)\n",
    "        return l\n",
    "    leftoutput=root_to_node(root.left,s)\n",
    "    if leftoutput!=None:\n",
    "        leftoutput.append(root.data)\n",
    "        return leftoutput\n",
    "    rightoutput=root_to_node(root.right,s)\n",
    "    if rightoutput!=None:\n",
    "        rightoutput.append(root.data)\n",
    "        return rightoutput\n",
    "    else:\n",
    "        return None\n",
    "    "
   ]
  },
  {
   "cell_type": "code",
   "execution_count": 7,
   "metadata": {},
   "outputs": [
    {
     "name": "stdout",
     "output_type": "stream",
     "text": [
      "4\n",
      "2\n",
      "1\n",
      "-1\n",
      "-1\n",
      "-1\n",
      "3\n",
      "-1\n",
      "-1\n",
      "enter the node\n",
      "1\n",
      "4:2-L 3-R\n",
      "2:1-L \n",
      "1:\n",
      "3:\n"
     ]
    },
    {
     "data": {
      "text/plain": [
       "[1, 2, 4]"
      ]
     },
     "execution_count": 7,
     "metadata": {},
     "output_type": "execute_result"
    }
   ],
   "source": [
    "n=treeinput()\n",
    "print(\"enter the node\")\n",
    "s=int(input())\n",
    "treeprinted(n)\n",
    "root_to_node(n,s)"
   ]
  },
  {
   "cell_type": "code",
   "execution_count": null,
   "metadata": {},
   "outputs": [],
   "source": []
  },
  {
   "cell_type": "code",
   "execution_count": null,
   "metadata": {},
   "outputs": [],
   "source": []
  },
  {
   "cell_type": "code",
   "execution_count": null,
   "metadata": {},
   "outputs": [],
   "source": []
  },
  {
   "cell_type": "code",
   "execution_count": null,
   "metadata": {},
   "outputs": [],
   "source": []
  },
  {
   "cell_type": "code",
   "execution_count": null,
   "metadata": {},
   "outputs": [],
   "source": []
  },
  {
   "cell_type": "code",
   "execution_count": null,
   "metadata": {},
   "outputs": [],
   "source": [
    "import pygame\n",
    "\n",
    "f = 1\n",
    "\n",
    "screenWidth = f * 800\n",
    "screenHeight = f * 600\n",
    "win = pygame.display.set_mode((screenWidth, screenHeight))\n",
    "pygame.display.set_caption(\"Mandelbrot\")\n",
    "\n",
    "max_iter = 100\n",
    "pxarray = pygame.PixelArray(win)\n",
    "\n",
    "run = True\n",
    "play = False\n",
    "while run :\n",
    "    \n",
    "\n",
    "    for event in pygame.event.get() :\n",
    "        if event.type == pygame.QUIT :\n",
    "            run = False\n",
    "\n",
    "    keys = pygame.key.get_pressed()\n",
    "    if keys[pygame.K_SPACE] :\n",
    "        play = True\n",
    "\n",
    "    if play :\n",
    "        for x in range(screenWidth // f) :\n",
    "            for y in range(screenHeight // f) :\n",
    "\n",
    "                a = 4 * x / (screenWidth // f) - 2\n",
    "                b = 4 * y / (screenHeight // f) - 2\n",
    "\n",
    "                ca = a\n",
    "                cb = b\n",
    "\n",
    "                n = 0\n",
    "                while n < max_iter :\n",
    "                    aa = a * a - b * b\n",
    "                    bb = 2 * a * b\n",
    "\n",
    "                    a = aa + ca\n",
    "                    b = bb + cb\n",
    "\n",
    "                    if abs(a + b) > 16 :\n",
    "                        break\n",
    "\n",
    "                    n += 1\n",
    "\n",
    "                bright = 255 * n / max_iter\n",
    "                if n == max_iter :\n",
    "                    bright = 0\n",
    "\n",
    "                # bright = 0\n",
    "                # if n == max_iter :\n",
    "                #     bright = 255\n",
    "\n",
    "                pxarray[f * x, f * y] = (bright,bright,bright)\n",
    "                pygame.display.update()\n",
    "\n",
    "        play = False"
   ]
  },
  {
   "cell_type": "code",
   "execution_count": null,
   "metadata": {},
   "outputs": [],
   "source": []
  },
  {
   "cell_type": "code",
   "execution_count": null,
   "metadata": {},
   "outputs": [],
   "source": []
  },
  {
   "cell_type": "code",
   "execution_count": null,
   "metadata": {},
   "outputs": [],
   "source": []
  },
  {
   "cell_type": "code",
   "execution_count": null,
   "metadata": {},
   "outputs": [],
   "source": []
  }
 ],
 "metadata": {
  "kernelspec": {
   "display_name": "Python 3.7.1 64-bit",
   "language": "python",
   "name": "python37164bit30fb801fd8264cc3bd050c47a8af4bdf"
  },
  "language_info": {
   "codemirror_mode": {
    "name": "ipython",
    "version": 3
   },
   "file_extension": ".py",
   "mimetype": "text/x-python",
   "name": "python",
   "nbconvert_exporter": "python",
   "pygments_lexer": "ipython3",
   "version": "3.7.1"
  }
 },
 "nbformat": 4,
 "nbformat_minor": 4
}
