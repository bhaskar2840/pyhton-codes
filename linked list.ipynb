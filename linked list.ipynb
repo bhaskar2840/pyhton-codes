{
 "cells": [
  {
   "cell_type": "code",
   "execution_count": 2,
   "metadata": {},
   "outputs": [],
   "source": [
    "class node():\n",
    "    def __init__(self,data):\n",
    "        self.data=data\n",
    "        self.next=None\n",
    "    "
   ]
  },
  {
   "cell_type": "code",
   "execution_count": 3,
   "metadata": {},
   "outputs": [],
   "source": [
    "def take_input():\n",
    "    head=None\n",
    "    inputlist=[int(ele) for ele in input().split()]\n",
    "    for curr_data in inputlist:\n",
    "        if curr_data==-1:\n",
    "            break\n",
    "        new_node=node(curr_data)\n",
    "        if head is None:\n",
    "            head=new_node\n",
    "        else:\n",
    "            curr=head\n",
    "            while curr.next is not None:\n",
    "                curr=curr.next\n",
    "            curr.next=new_node\n",
    "    return head"
   ]
  },
  {
   "cell_type": "code",
   "execution_count": 4,
   "metadata": {},
   "outputs": [],
   "source": [
    "def printLL(head):\n",
    "    while head is not None:\n",
    "        print(str(head.data) + \"--->\",end=\"\")\n",
    "        head=head.next\n",
    "    print(\"None\")\n",
    "    return"
   ]
  },
  {
   "cell_type": "code",
   "execution_count": 17,
   "metadata": {},
   "outputs": [
    {
     "name": "stdout",
     "output_type": "stream",
     "text": [
      "4 5 6 8 6 9 -1\n",
      "4--->5--->6--->8--->6--->9--->None\n"
     ]
    }
   ],
   "source": [
    "head1=take_input()\n",
    "printLL(head1)"
   ]
  },
  {
   "cell_type": "code",
   "execution_count": 5,
   "metadata": {},
   "outputs": [],
   "source": [
    "def input_ll():\n",
    "    head=None\n",
    "    tail=None\n",
    "    input_li=[int(ele) for (ele) in input().split() ]\n",
    "    for curr_data in input_li:\n",
    "        if curr_data==-1:\n",
    "            break\n",
    "        new_node=node(curr_data)\n",
    "        if head is None:\n",
    "            head=new_node\n",
    "            tail=new_node\n",
    "\n",
    "        else:\n",
    "            tail.next=new_node\n",
    "            tail=tail.next\n",
    "    return head\n"
   ]
  },
  {
   "cell_type": "code",
   "execution_count": 13,
   "metadata": {},
   "outputs": [
    {
     "name": "stdout",
     "output_type": "stream",
     "text": [
      "3 4 2 4 2 -1\n",
      "3--->4--->2--->4--->2--->None\n"
     ]
    }
   ],
   "source": [
    "head2=input_ll()\n",
    "printLL(head2)"
   ]
  },
  {
   "cell_type": "markdown",
   "metadata": {},
   "source": [
    "insert element at ith posiion"
   ]
  },
  {
   "cell_type": "code",
   "execution_count": 6,
   "metadata": {},
   "outputs": [],
   "source": [
    "def lenLL(head):\n",
    "    count=0\n",
    "    while head is not None:\n",
    "        \n",
    "        head=head.next\n",
    "        count=count+1\n",
    "    return count"
   ]
  },
  {
   "cell_type": "code",
   "execution_count": 7,
   "metadata": {},
   "outputs": [],
   "source": [
    "def insert_at_i(head,i,data):\n",
    "    if i>lenLL(head) or i<0:\n",
    "        return head\n",
    "    count=0\n",
    "    prev=None\n",
    "    curr=head\n",
    "    while count<i:\n",
    "        prev=curr\n",
    "        curr=curr.next\n",
    "        count=count+1\n",
    "    new_node=node(data)\n",
    "    if prev is not None:\n",
    "        prev.next=new_node\n",
    "    else:\n",
    "        head=new_node\n",
    "    new_node.next=curr\n",
    "    return head\n",
    "        \n",
    "        \n",
    "  \n",
    "    \n",
    "    "
   ]
  },
  {
   "cell_type": "code",
   "execution_count": 44,
   "metadata": {},
   "outputs": [
    {
     "name": "stdout",
     "output_type": "stream",
     "text": [
      "2 4 5 6 7 8 9 -1\n",
      "7\n",
      "2--->4--->5--->50--->6--->7--->8--->9--->None\n",
      "8\n"
     ]
    }
   ],
   "source": [
    "head=take_input()\n",
    "print(lenLL(head))\n",
    "head1=insert_at_i(head,3,50)\n",
    "printLL(head1)\n",
    "print(lenLL(head1))\n"
   ]
  },
  {
   "cell_type": "code",
   "execution_count": 8,
   "metadata": {},
   "outputs": [],
   "source": [
    "def insert_atIR(head, i ,data):\n",
    "   \n",
    "    if i==0:\n",
    "        new_node=node(data)\n",
    "        new_node.next=head\n",
    "        return new_node\n",
    "    #this is the condition of len of ll is smaller than i\n",
    "    if i<0:\n",
    "        return head\n",
    "    if head is None:\n",
    "        return None\n",
    "    smallLL=insert_atIR(head.next,i-1,data)\n",
    "    head.next=smallLL\n",
    "    return head"
   ]
  },
  {
   "cell_type": "code",
   "execution_count": 40,
   "metadata": {},
   "outputs": [
    {
     "name": "stdout",
     "output_type": "stream",
     "text": [
      "3 5 6 7 4 5 9 3 -1\n",
      "8\n",
      "3--->5--->6--->50--->7--->4--->5--->9--->3--->None\n",
      "9\n"
     ]
    }
   ],
   "source": [
    "head=take_input()\n",
    "print(lenLL(head))\n",
    "head1=insert_atIR(head,3,50)\n",
    "printLL(head1)\n",
    "print(lenLL(head1))"
   ]
  },
  {
   "cell_type": "markdown",
   "metadata": {},
   "source": [
    "### linked list -2"
   ]
  },
  {
   "cell_type": "code",
   "execution_count": 9,
   "metadata": {},
   "outputs": [],
   "source": [
    "#reverse a linked list \n",
    "#this is of order n**2 type therefor we will be using a order n type solution by using tail as it will \n",
    "#not have to iltrate till the last element like current thus order n time complexity is given.\n",
    "\n",
    "def reverseLL(head):\n",
    "    if head.next is None or head is None:\n",
    "        return head\n",
    "    smallhead=reverseLL(head.next)\n",
    "    curr=smallhead  #this is done so that the reference to the head is not lost that's why we use curr\n",
    "    while curr.next is not None:\n",
    "        curr=curr.next\n",
    "    curr.next=head\n",
    "    head.next=None\n",
    "    return smallhead\n",
    "   "
   ]
  },
  {
   "cell_type": "code",
   "execution_count": 22,
   "metadata": {},
   "outputs": [
    {
     "name": "stdout",
     "output_type": "stream",
     "text": [
      "3 2 4 5 1 2 -1\n",
      "2--->1--->5--->4--->2--->3--->None\n"
     ]
    }
   ],
   "source": [
    "head1=take_input()\n",
    "head2=reverseLL(head1)\n",
    "printLL(head2)"
   ]
  },
  {
   "cell_type": "code",
   "execution_count": 10,
   "metadata": {},
   "outputs": [],
   "source": [
    "class nodepair():\n",
    "    def __init__(self):\n",
    "        self.head=None\n",
    "        self.tail=None\n",
    "        \n"
   ]
  },
  {
   "cell_type": "code",
   "execution_count": 11,
   "metadata": {},
   "outputs": [],
   "source": [
    "def reverseLL2(head):\n",
    "    if head is None or head is not None:\n",
    "        ans=nodepair()\n",
    "        ans.head=head\n",
    "        ans.tail=head\n",
    "        return head\n",
    "    \n",
    "    smallhead=reverseLL2(head.next)\n",
    "    smallhead.tail.next=head\n",
    "    head.next=None\n",
    "    ans=nodepair()\n",
    "    ans.head=smallhead.head\n",
    "    ans.tail=head\n",
    "    return ans.head\n",
    "    "
   ]
  },
  {
   "cell_type": "code",
   "execution_count": 31,
   "metadata": {},
   "outputs": [
    {
     "name": "stdout",
     "output_type": "stream",
     "text": [
      "3 4 2 4 2 4 5 3 -1\n",
      "3--->4--->2--->4--->2--->4--->5--->3--->None\n"
     ]
    }
   ],
   "source": [
    "head1=take_input()\n",
    "head2=reverseLL2(head1)\n",
    "printLL(head2)"
   ]
  },
  {
   "cell_type": "code",
   "execution_count": 12,
   "metadata": {},
   "outputs": [],
   "source": [
    "## best approach  cause head.next.next is equal to tail.next draw and you will understand\n",
    "\n",
    "def reverseLL3(head):\n",
    "    if head is None or head.next is None:\n",
    "        return head\n",
    "    smallhead=reverseLL3(head.next)\n",
    "    head.next.next=head\n",
    "    head.next=None\n",
    "    return smallhead\n",
    "    "
   ]
  },
  {
   "cell_type": "code",
   "execution_count": 35,
   "metadata": {},
   "outputs": [
    {
     "name": "stdout",
     "output_type": "stream",
     "text": [
      "4 3 5 3 8 -1\n",
      "8--->3--->5--->3--->4--->None\n"
     ]
    }
   ],
   "source": [
    "head1=take_input()\n",
    "head2=reverseLL3(head1)\n",
    "printLL(head2)"
   ]
  },
  {
   "cell_type": "code",
   "execution_count": null,
   "metadata": {},
   "outputs": [],
   "source": [
    "# we will look at the ilterative way of linked list to reverse it uses curr , prev and next\n"
   ]
  },
  {
   "cell_type": "code",
   "execution_count": 13,
   "metadata": {},
   "outputs": [],
   "source": [
    "##mid point of the linked list\n",
    "\n",
    "def midpointLL(head):\n",
    "    slow=head\n",
    "    fast=head\n",
    "    while (fast.next!=None and fast.next.next!=None):\n",
    "        slow=slow.next\n",
    "        fast=fast.next.next\n",
    "    return slow\n"
   ]
  },
  {
   "cell_type": "code",
   "execution_count": 44,
   "metadata": {},
   "outputs": [
    {
     "name": "stdout",
     "output_type": "stream",
     "text": [
      "2 3 4 5 6 4 -1\n",
      "4--->5--->6--->4--->None\n"
     ]
    }
   ],
   "source": [
    "head1=take_input()\n",
    "head2=midpointLL(head1)\n",
    "printLL(head2)"
   ]
  },
  {
   "cell_type": "code",
   "execution_count": 14,
   "metadata": {},
   "outputs": [],
   "source": [
    "## merge 2 linked list \n",
    "\n",
    "def merge2LL(head1,head2):\n",
    "    if (head1 is None):\n",
    "        return head2\n",
    "    if (head2 is None):\n",
    "        return head1\n",
    "    if (head1.data>=head2.data):\n",
    "        head=head2\n",
    "        head2.next=head2\n",
    "    else:\n",
    "        head=head1\n",
    "        head1.next=head1\n",
    "    curr=head\n",
    "    while(head1 and head2):\n",
    "        if (head1.data>=head2.data):\n",
    "            curr.next=head2\n",
    "            head2=head2.next\n",
    "        else:\n",
    "            curr.next=head1\n",
    "            head1=head1.next\n",
    "        curr=curr.next\n",
    "    if(head1==None):\n",
    "        curr.next=head2\n",
    "    else:\n",
    "        curr.next=head1\n",
    "    return head\n",
    "            \n",
    "        \n",
    "    \n",
    "    \n",
    "    "
   ]
  },
  {
   "cell_type": "code",
   "execution_count": null,
   "metadata": {},
   "outputs": [],
   "source": []
  },
  {
   "cell_type": "code",
   "execution_count": 49,
   "metadata": {},
   "outputs": [
    {
     "name": "stdout",
     "output_type": "stream",
     "text": [
      "2 3 6 8 -1\n",
      "2 3 4 2 -1\n"
     ]
    },
    {
     "ename": "KeyboardInterrupt",
     "evalue": "",
     "output_type": "error",
     "traceback": [
      "\u001b[1;31m---------------------------------------------------------------------------\u001b[0m",
      "\u001b[1;31mKeyboardInterrupt\u001b[0m                         Traceback (most recent call last)",
      "\u001b[1;32m<ipython-input-49-840a1b578592>\u001b[0m in \u001b[0;36m<module>\u001b[1;34m\u001b[0m\n\u001b[0;32m      1\u001b[0m \u001b[0mhead1\u001b[0m\u001b[1;33m=\u001b[0m\u001b[0mtake_input\u001b[0m\u001b[1;33m(\u001b[0m\u001b[1;33m)\u001b[0m\u001b[1;33m\u001b[0m\u001b[0m\n\u001b[0;32m      2\u001b[0m \u001b[0mhead2\u001b[0m\u001b[1;33m=\u001b[0m\u001b[0mtake_input\u001b[0m\u001b[1;33m(\u001b[0m\u001b[1;33m)\u001b[0m\u001b[1;33m\u001b[0m\u001b[0m\n\u001b[1;32m----> 3\u001b[1;33m \u001b[0mhead3\u001b[0m\u001b[1;33m=\u001b[0m\u001b[0mmerge2LL\u001b[0m\u001b[1;33m(\u001b[0m\u001b[0mhead1\u001b[0m\u001b[1;33m,\u001b[0m\u001b[0mhead2\u001b[0m\u001b[1;33m)\u001b[0m\u001b[1;33m\u001b[0m\u001b[0m\n\u001b[0m\u001b[0;32m      4\u001b[0m \u001b[0mprintLL\u001b[0m\u001b[1;33m(\u001b[0m\u001b[0mhead3\u001b[0m\u001b[1;33m)\u001b[0m\u001b[1;33m\u001b[0m\u001b[0m\n",
      "\u001b[1;32m<ipython-input-48-c499743ac95f>\u001b[0m in \u001b[0;36mmerge2LL\u001b[1;34m(head1, head2)\u001b[0m\n\u001b[0;32m     16\u001b[0m         \u001b[1;32mif\u001b[0m \u001b[1;33m(\u001b[0m\u001b[0mhead1\u001b[0m\u001b[1;33m.\u001b[0m\u001b[0mdata\u001b[0m\u001b[1;33m>=\u001b[0m\u001b[0mhead2\u001b[0m\u001b[1;33m.\u001b[0m\u001b[0mdata\u001b[0m\u001b[1;33m)\u001b[0m\u001b[1;33m:\u001b[0m\u001b[1;33m\u001b[0m\u001b[0m\n\u001b[0;32m     17\u001b[0m             \u001b[0mcurr\u001b[0m\u001b[1;33m.\u001b[0m\u001b[0mnext\u001b[0m\u001b[1;33m=\u001b[0m\u001b[0mhead2\u001b[0m\u001b[1;33m\u001b[0m\u001b[0m\n\u001b[1;32m---> 18\u001b[1;33m             \u001b[0mhead2\u001b[0m\u001b[1;33m=\u001b[0m\u001b[0mhead2\u001b[0m\u001b[1;33m.\u001b[0m\u001b[0mnext\u001b[0m\u001b[1;33m\u001b[0m\u001b[0m\n\u001b[0m\u001b[0;32m     19\u001b[0m         \u001b[1;32melse\u001b[0m\u001b[1;33m:\u001b[0m\u001b[1;33m\u001b[0m\u001b[0m\n\u001b[0;32m     20\u001b[0m             \u001b[0mcurr\u001b[0m\u001b[1;33m.\u001b[0m\u001b[0mnext\u001b[0m\u001b[1;33m=\u001b[0m\u001b[0mhead1\u001b[0m\u001b[1;33m\u001b[0m\u001b[0m\n",
      "\u001b[1;31mKeyboardInterrupt\u001b[0m: "
     ]
    }
   ],
   "source": [
    "head1=take_input()\n",
    "head2=take_input()\n",
    "head3=merge2LL(head1,head2)\n",
    "printLL(head3)"
   ]
  },
  {
   "cell_type": "code",
   "execution_count": 15,
   "metadata": {},
   "outputs": [
    {
     "name": "stdout",
     "output_type": "stream",
     "text": [
      "1 2 3 4 5\n",
      "2 3 4 5\n",
      "1 2 2 3 3 4 4 \n"
     ]
    }
   ],
   "source": [
    "\n",
    "\n",
    "\n",
    "\n",
    "\n",
    "class Node:\n",
    "    def __init__(self, data):\n",
    "        self.data = data\n",
    "        self.next = None\n",
    "def ll(arr):\n",
    "    if len(arr)==0:\n",
    "        return None\n",
    "    head = Node(arr[0])\n",
    "    last = head\n",
    "    for data in arr[1:]:\n",
    "        last.next = Node(data)\n",
    "        last = last.next\n",
    "    return head\n",
    "def printll(head):\n",
    "    while head:\n",
    "        print(head.data, end=' ')\n",
    "        head = head.next\n",
    "    print()\n",
    "def merge(head1,head2):\n",
    "    if(head1==None):\n",
    "        return head2\n",
    "    if(head2==None):\n",
    "        return head1\n",
    "    if(head1.data<=head2.data):\n",
    "        head=head1\n",
    "        head1=head1.next\n",
    "    else:\n",
    "        head=head2\n",
    "        head2=head2.next\n",
    "    curr=head\n",
    "    while(head1 and head2):\n",
    "        if(head1.data<=head2.data):\n",
    "            curr.next=head1\n",
    "            head1=head1.next\n",
    "        else:\n",
    "            curr.next=head2\n",
    "            head2=head2.next\n",
    "        curr=curr.next\n",
    "    if(head1==None):\n",
    "        curr.next=head2\n",
    "    else:\n",
    "        curr.next=head1\n",
    "    return head\n",
    "# Main\n",
    "# Read the link list elements including -1\n",
    "arr1=list(int(i) for i in input().strip().split(' '))\n",
    "arr2=list(int(i) for i in input().strip().split(' '))\n",
    "# Create a Linked list after removing -1 from list\n",
    "l1 = ll(arr1[:-1])\n",
    "l2 = ll(arr2[:-1])\n",
    "l = merge(l1, l2)\n",
    "printll(l)\n",
    "\n"
   ]
  },
  {
   "cell_type": "code",
   "execution_count": null,
   "metadata": {},
   "outputs": [],
   "source": [
    "## mergesort in LL\n",
    "\n",
    "def mergesort(head):\n",
    "    if (head.next is None):\n",
    "        return head\n",
    "    \n",
    "   "
   ]
  },
  {
   "cell_type": "code",
   "execution_count": null,
   "metadata": {},
   "outputs": [],
   "source": []
  },
  {
   "cell_type": "markdown",
   "metadata": {},
   "source": [
    "### some practice questions."
   ]
  },
  {
   "cell_type": "code",
   "execution_count": null,
   "metadata": {},
   "outputs": [],
   "source": [
    "## check wheather a linked list is a palindrome"
   ]
  },
  {
   "cell_type": "code",
   "execution_count": 25,
   "metadata": {},
   "outputs": [
    {
     "name": "stdout",
     "output_type": "stream",
     "text": [
      "1 2 3 4 2 1 -1\n",
      "true\n"
     ]
    }
   ],
   "source": [
    "\n",
    "head1=take_input()\n",
    "head2=reverseLL3(head1)\n",
    "while ((head1 is not None) and (head2 is not None)):\n",
    "    if (head1.data==head2.data):\n",
    "        print(\"true\")\n",
    "    else:\n",
    "        print(\"false\")\n",
    "    head1=head1.next\n",
    "    head2=head2.next\n",
    "\n"
   ]
  },
  {
   "cell_type": "code",
   "execution_count": null,
   "metadata": {},
   "outputs": [],
   "source": [
    "##delete a node in the linked list.\n",
    "class node():\n",
    "    def __init__(self,data):\n",
    "        self.data=data\n",
    "        self.next=None\n",
    "        \n",
    "\n"
   ]
  },
  {
   "cell_type": "code",
   "execution_count": null,
   "metadata": {},
   "outputs": [],
   "source": []
  },
  {
   "cell_type": "code",
   "execution_count": null,
   "metadata": {},
   "outputs": [],
   "source": []
  }
 ],
 "metadata": {
  "kernelspec": {
   "display_name": "Python 3",
   "language": "python",
   "name": "python3"
  },
  "language_info": {
   "codemirror_mode": {
    "name": "ipython",
    "version": 3
   },
   "file_extension": ".py",
   "mimetype": "text/x-python",
   "name": "python",
   "nbconvert_exporter": "python",
   "pygments_lexer": "ipython3",
   "version": "3.7.0"
  }
 },
 "nbformat": 4,
 "nbformat_minor": 2
}
